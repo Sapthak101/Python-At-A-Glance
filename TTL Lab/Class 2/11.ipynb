{
 "cells": [
  {
   "cell_type": "code",
   "execution_count": 1,
   "metadata": {},
   "outputs": [
    {
     "name": "stdout",
     "output_type": "stream",
     "text": [
      "Addition: 8.0\n",
      "Subtraction: -2.0\n",
      "Multiplication: 15.0\n",
      "Exponentiation: 243.0\n",
      "Floor Division: 0.0\n",
      "Division: 0.6\n"
     ]
    }
   ],
   "source": [
    "# Program to check different arithmetic operators\n",
    "\n",
    "num1 = float(input(\"Enter the first number: \"))\n",
    "num2 = float(input(\"Enter the second number: \"))\n",
    "\n",
    "# Addition\n",
    "addition_result = num1 + num2\n",
    "print(f\"Addition: {addition_result}\")\n",
    "\n",
    "# Subtraction\n",
    "subtraction_result = num1 - num2\n",
    "print(f\"Subtraction: {subtraction_result}\")\n",
    "\n",
    "# Multiplication\n",
    "multiplication_result = num1 * num2\n",
    "print(f\"Multiplication: {multiplication_result}\")\n",
    "\n",
    "# Exponentiation\n",
    "exponentiation_result = num1 ** num2\n",
    "print(f\"Exponentiation: {exponentiation_result}\")\n",
    "\n",
    "# Floor Division\n",
    "floor_division_result = num1 // num2\n",
    "print(f\"Floor Division: {floor_division_result}\")\n",
    "\n",
    "# Division\n",
    "division_result = num1 / num2\n",
    "print(f\"Division: {division_result}\")"
   ]
  },
  {
   "cell_type": "code",
   "execution_count": null,
   "metadata": {},
   "outputs": [],
   "source": []
  }
 ],
 "metadata": {
  "kernelspec": {
   "display_name": "Python 3",
   "language": "python",
   "name": "python3"
  },
  "language_info": {
   "codemirror_mode": {
    "name": "ipython",
    "version": 3
   },
   "file_extension": ".py",
   "mimetype": "text/x-python",
   "name": "python",
   "nbconvert_exporter": "python",
   "pygments_lexer": "ipython3",
   "version": "3.11.2"
  }
 },
 "nbformat": 4,
 "nbformat_minor": 2
}
