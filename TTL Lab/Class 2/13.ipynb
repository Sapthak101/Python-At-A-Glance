{
 "cells": [
  {
   "cell_type": "code",
   "execution_count": 1,
   "metadata": {},
   "outputs": [
    {
     "name": "stdout",
     "output_type": "stream",
     "text": [
      "x after += operation: 5\n",
      "x after -= operation: 3\n",
      "x after /= operation: 1.5\n",
      "x after //= operation: 0.0\n",
      "x after *= operation: 0.0\n",
      "x after **= operation: 0.0\n"
     ]
    }
   ],
   "source": [
    "# Program to demonstrate different assignment operators\n",
    "\n",
    "x = int(input(\"Enter the value of x: \"))\n",
    "y = int(input(\"Enter the value of y: \"))\n",
    "\n",
    "# +=\n",
    "x += y\n",
    "print(f\"x after += operation: {x}\")\n",
    "\n",
    "# -=\n",
    "x -= y\n",
    "print(f\"x after -= operation: {x}\")\n",
    "\n",
    "# /=\n",
    "x /= y\n",
    "print(f\"x after /= operation: {x}\")\n",
    "\n",
    "# //=\n",
    "x //= y\n",
    "print(f\"x after //= operation: {x}\")\n",
    "\n",
    "# *=\n",
    "x *= y\n",
    "print(f\"x after *= operation: {x}\")\n",
    "\n",
    "# **=\n",
    "x **= y\n",
    "print(f\"x after **= operation: {x}\")"
   ]
  },
  {
   "cell_type": "code",
   "execution_count": null,
   "metadata": {},
   "outputs": [],
   "source": []
  }
 ],
 "metadata": {
  "kernelspec": {
   "display_name": "Python 3",
   "language": "python",
   "name": "python3"
  },
  "language_info": {
   "codemirror_mode": {
    "name": "ipython",
    "version": 3
   },
   "file_extension": ".py",
   "mimetype": "text/x-python",
   "name": "python",
   "nbconvert_exporter": "python",
   "pygments_lexer": "ipython3",
   "version": "3.11.2"
  }
 },
 "nbformat": 4,
 "nbformat_minor": 2
}
