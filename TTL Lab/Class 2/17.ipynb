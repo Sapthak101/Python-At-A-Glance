{
 "cells": [
  {
   "cell_type": "code",
   "execution_count": 1,
   "metadata": {},
   "outputs": [
    {
     "name": "stdout",
     "output_type": "stream",
     "text": [
      "Equal: False\n",
      "Not Equal: True\n",
      "Greater than: True\n",
      "Less than: False\n",
      "Greater than or equal: True\n",
      "Less than or equal: False\n"
     ]
    }
   ],
   "source": [
    "# Program to demonstrate different comparison operators\n",
    "\n",
    "num1 = float(input(\"Enter the first number: \"))\n",
    "num2 = float(input(\"Enter the second number: \"))\n",
    "\n",
    "# ==\n",
    "print(f\"Equal: {num1 == num2}\")\n",
    "\n",
    "# !=\n",
    "print(f\"Not Equal: {num1 != num2}\")\n",
    "\n",
    "# >\n",
    "print(f\"Greater than: {num1 > num2}\")\n",
    "\n",
    "# <\n",
    "print(f\"Less than: {num1 < num2}\")\n",
    "\n",
    "# >=\n",
    "print(f\"Greater than or equal: {num1 >= num2}\")\n",
    "\n",
    "# <=\n",
    "print(f\"Less than or equal: {num1 <= num2}\")\n"
   ]
  },
  {
   "cell_type": "code",
   "execution_count": null,
   "metadata": {},
   "outputs": [],
   "source": []
  }
 ],
 "metadata": {
  "kernelspec": {
   "display_name": "Python 3",
   "language": "python",
   "name": "python3"
  },
  "language_info": {
   "codemirror_mode": {
    "name": "ipython",
    "version": 3
   },
   "file_extension": ".py",
   "mimetype": "text/x-python",
   "name": "python",
   "nbconvert_exporter": "python",
   "pygments_lexer": "ipython3",
   "version": "3.11.2"
  }
 },
 "nbformat": 4,
 "nbformat_minor": 2
}
