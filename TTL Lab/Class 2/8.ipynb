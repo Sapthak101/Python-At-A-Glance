{
 "cells": [
  {
   "cell_type": "code",
   "execution_count": 3,
   "metadata": {},
   "outputs": [
    {
     "name": "stdout",
     "output_type": "stream",
     "text": [
      "Size of tuple1: 64\n",
      "Size of tuple2: 64\n",
      "Size of tuple3: 64\n"
     ]
    }
   ],
   "source": [
    "#8. Find the size of tuples by taking 3 separate tuples with 3 different inputs:\n",
    "import sys\n",
    "\n",
    "tuple1 = (1, 2, 3)\n",
    "tuple2 = ('a', 'b', 'c')\n",
    "tuple3 = (3.14, 2.71, 1.618)\n",
    "print(\"Size of tuple1:\", sys.getsizeof(tuple1))\n",
    "print(\"Size of tuple2:\", sys.getsizeof(tuple2))\n",
    "print(\"Size of tuple3:\", sys.getsizeof(tuple3))"
   ]
  },
  {
   "cell_type": "code",
   "execution_count": null,
   "metadata": {},
   "outputs": [],
   "source": []
  }
 ],
 "metadata": {
  "kernelspec": {
   "display_name": "Python 3",
   "language": "python",
   "name": "python3"
  },
  "language_info": {
   "codemirror_mode": {
    "name": "ipython",
    "version": 3
   },
   "file_extension": ".py",
   "mimetype": "text/x-python",
   "name": "python",
   "nbconvert_exporter": "python",
   "pygments_lexer": "ipython3",
   "version": "3.11.2"
  }
 },
 "nbformat": 4,
 "nbformat_minor": 2
}
