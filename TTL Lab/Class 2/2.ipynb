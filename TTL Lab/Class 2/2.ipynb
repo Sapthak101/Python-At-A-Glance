{
 "cells": [
  {
   "cell_type": "code",
   "execution_count": null,
   "metadata": {},
   "outputs": [],
   "source": [
    "#2. Take integer, string, float, and character in one list and display it:\n",
    "\n",
    "mixed_list = [42, \"Hello\", 3.14, 'a']\n",
    "print(\"Mixed list:\", mixed_list)"
   ]
  }
 ],
 "metadata": {
  "language_info": {
   "name": "python"
  }
 },
 "nbformat": 4,
 "nbformat_minor": 2
}
