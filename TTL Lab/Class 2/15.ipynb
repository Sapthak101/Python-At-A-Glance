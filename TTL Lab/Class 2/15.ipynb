{
 "cells": [
  {
   "cell_type": "code",
   "execution_count": 1,
   "metadata": {},
   "outputs": [
    {
     "name": "stdout",
     "output_type": "stream",
     "text": [
      "3 is in the list\n",
      "4 is in the list\n"
     ]
    }
   ],
   "source": [
    "# Program to demonstrate membership operators using list\n",
    "\n",
    "my_list = [1, 2, 3, 4, 5]\n",
    "\n",
    "# IN\n",
    "element = int(input(\"Enter an element to check if it's in the list: \"))\n",
    "print(f\"{element} is {'in' if element in my_list else 'not in'} the list\")\n",
    "\n",
    "# NOT IN\n",
    "element = int(input(\"Enter an element to check if it's not in the list: \"))\n",
    "print(f\"{element} is {'not in' if element not in my_list else 'in'} the list\")"
   ]
  },
  {
   "cell_type": "code",
   "execution_count": null,
   "metadata": {},
   "outputs": [],
   "source": []
  }
 ],
 "metadata": {
  "kernelspec": {
   "display_name": "Python 3",
   "language": "python",
   "name": "python3"
  },
  "language_info": {
   "codemirror_mode": {
    "name": "ipython",
    "version": 3
   },
   "file_extension": ".py",
   "mimetype": "text/x-python",
   "name": "python",
   "nbconvert_exporter": "python",
   "pygments_lexer": "ipython3",
   "version": "3.11.2"
  }
 },
 "nbformat": 4,
 "nbformat_minor": 2
}
