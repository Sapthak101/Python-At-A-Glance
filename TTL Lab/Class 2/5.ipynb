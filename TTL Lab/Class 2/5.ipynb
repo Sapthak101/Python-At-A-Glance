{
 "cells": [
  {
   "cell_type": "code",
   "execution_count": 10,
   "metadata": {},
   "outputs": [
    {
     "name": "stdout",
     "output_type": "stream",
     "text": [
      "Appended list: ['Sapthak']\n"
     ]
    }
   ],
   "source": [
    "#5. Take a string in one list and append it to another list using append():\n",
    "list1=input(\"Enter a string: \")\n",
    "list2=[]\n",
    "list2.append(list1)\n",
    "print(\"Appended list:\", list2)"
   ]
  }
 ],
 "metadata": {
  "kernelspec": {
   "display_name": "Python 3",
   "language": "python",
   "name": "python3"
  },
  "language_info": {
   "codemirror_mode": {
    "name": "ipython",
    "version": 3
   },
   "file_extension": ".py",
   "mimetype": "text/x-python",
   "name": "python",
   "nbconvert_exporter": "python",
   "pygments_lexer": "ipython3",
   "version": "3.11.2"
  }
 },
 "nbformat": 4,
 "nbformat_minor": 2
}
