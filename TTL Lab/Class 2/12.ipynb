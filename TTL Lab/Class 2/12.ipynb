{
 "cells": [
  {
   "cell_type": "code",
   "execution_count": 1,
   "metadata": {},
   "outputs": [
    {
     "name": "stdout",
     "output_type": "stream",
     "text": [
      "Bitwise AND: 4\n",
      "Bitwise OR: 6\n",
      "Bitwise XOR: 2\n",
      "Bitwise NOT of num1: -7\n",
      "Bitwise NOT of num2: -5\n",
      "Left Shift: 96\n",
      "Right Shift: 0\n"
     ]
    }
   ],
   "source": [
    "# Program to demonstrate different bitwise operators\n",
    "\n",
    "num1 = int(input(\"Enter the first number: \"))\n",
    "num2 = int(input(\"Enter the second number: \"))\n",
    "\n",
    "# Bitwise AND\n",
    "print(f\"Bitwise AND: {num1 & num2}\")\n",
    "\n",
    "# Bitwise OR\n",
    "print(f\"Bitwise OR: {num1 | num2}\")\n",
    "\n",
    "# Bitwise XOR\n",
    "print(f\"Bitwise XOR: {num1 ^ num2}\")\n",
    "\n",
    "# Bitwise NOT\n",
    "print(f\"Bitwise NOT of num1: {~num1}\")\n",
    "print(f\"Bitwise NOT of num2: {~num2}\")\n",
    "\n",
    "# Left Shift\n",
    "shift_left_result = num1 << num2\n",
    "print(f\"Left Shift: {shift_left_result}\")\n",
    "\n",
    "# Right Shift\n",
    "shift_right_result = num1 >> num2\n",
    "print(f\"Right Shift: {shift_right_result}\")"
   ]
  },
  {
   "cell_type": "code",
   "execution_count": null,
   "metadata": {},
   "outputs": [],
   "source": []
  }
 ],
 "metadata": {
  "kernelspec": {
   "display_name": "Python 3",
   "language": "python",
   "name": "python3"
  },
  "language_info": {
   "codemirror_mode": {
    "name": "ipython",
    "version": 3
   },
   "file_extension": ".py",
   "mimetype": "text/x-python",
   "name": "python",
   "nbconvert_exporter": "python",
   "pygments_lexer": "ipython3",
   "version": "3.11.2"
  }
 },
 "nbformat": 4,
 "nbformat_minor": 2
}
