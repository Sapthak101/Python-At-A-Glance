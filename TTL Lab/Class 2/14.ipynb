{
 "cells": [
  {
   "cell_type": "code",
   "execution_count": 1,
   "metadata": {},
   "outputs": [
    {
     "name": "stdout",
     "output_type": "stream",
     "text": [
      "OR: True\n",
      "AND: False\n",
      "NOT of a: False\n"
     ]
    }
   ],
   "source": [
    "# Program to demonstrate different logical operators\n",
    "\n",
    "# OR\n",
    "a = True\n",
    "b = False\n",
    "print(f\"OR: {a or b}\")\n",
    "\n",
    "# AND\n",
    "print(f\"AND: {a and b}\")\n",
    "\n",
    "# NOT\n",
    "print(f\"NOT of a: {not a}\")"
   ]
  },
  {
   "cell_type": "code",
   "execution_count": null,
   "metadata": {},
   "outputs": [],
   "source": []
  }
 ],
 "metadata": {
  "kernelspec": {
   "display_name": "Python 3",
   "language": "python",
   "name": "python3"
  },
  "language_info": {
   "codemirror_mode": {
    "name": "ipython",
    "version": 3
   },
   "file_extension": ".py",
   "mimetype": "text/x-python",
   "name": "python",
   "nbconvert_exporter": "python",
   "pygments_lexer": "ipython3",
   "version": "3.11.2"
  }
 },
 "nbformat": 4,
 "nbformat_minor": 2
}
