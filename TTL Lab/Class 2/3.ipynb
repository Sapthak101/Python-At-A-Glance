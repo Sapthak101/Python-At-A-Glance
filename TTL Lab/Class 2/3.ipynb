{
 "cells": [
  {
   "cell_type": "code",
   "execution_count": 1,
   "metadata": {},
   "outputs": [
    {
     "name": "stdout",
     "output_type": "stream",
     "text": [
      "Type of the list: <class 'list'>\n",
      "Contains integer: True\n",
      "Contains string: True\n",
      "Contains numeric: False\n"
     ]
    }
   ],
   "source": [
    "#3. Find the type of a list and check if it contains integer, string, or numeric:\n",
    "\n",
    "my_list = [1, 2, 3, \"four\"]\n",
    "print(\"Type of the list:\", type(my_list))\n",
    "print(\"Contains integer:\", any(isinstance(item, int) for item in my_list))\n",
    "print(\"Contains string:\", any(isinstance(item, str) for item in my_list))\n",
    "print(\"Contains numeric:\", all(isinstance(item, (int, float)) for item in my_list))"
   ]
  },
  {
   "cell_type": "code",
   "execution_count": null,
   "metadata": {},
   "outputs": [],
   "source": []
  }
 ],
 "metadata": {
  "kernelspec": {
   "display_name": "Python 3",
   "language": "python",
   "name": "python3"
  },
  "language_info": {
   "codemirror_mode": {
    "name": "ipython",
    "version": 3
   },
   "file_extension": ".py",
   "mimetype": "text/x-python",
   "name": "python",
   "nbconvert_exporter": "python",
   "pygments_lexer": "ipython3",
   "version": "3.11.2"
  }
 },
 "nbformat": 4,
 "nbformat_minor": 2
}
