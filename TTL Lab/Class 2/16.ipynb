{
 "cells": [
  {
   "cell_type": "code",
   "execution_count": 1,
   "metadata": {},
   "outputs": [
    {
     "name": "stdout",
     "output_type": "stream",
     "text": [
      "list1 is list2: False\n",
      "list1 is list3: True\n",
      "list1 is not list2: True\n",
      "list1 is not list3: False\n"
     ]
    }
   ],
   "source": [
    "# Program to demonstrate identity operators using list\n",
    "\n",
    "list1 = [1, 2, 3]\n",
    "list2 = [1, 2, 3]\n",
    "list3 = list1\n",
    "\n",
    "# IS\n",
    "print(f\"list1 is list2: {list1 is list2}\")\n",
    "print(f\"list1 is list3: {list1 is list3}\")\n",
    "\n",
    "# IS NOT\n",
    "print(f\"list1 is not list2: {list1 is not list2}\")\n",
    "print(f\"list1 is not list3: {list1 is not list3}\")"
   ]
  },
  {
   "cell_type": "code",
   "execution_count": null,
   "metadata": {},
   "outputs": [],
   "source": []
  }
 ],
 "metadata": {
  "kernelspec": {
   "display_name": "Python 3",
   "language": "python",
   "name": "python3"
  },
  "language_info": {
   "codemirror_mode": {
    "name": "ipython",
    "version": 3
   },
   "file_extension": ".py",
   "mimetype": "text/x-python",
   "name": "python",
   "nbconvert_exporter": "python",
   "pygments_lexer": "ipython3",
   "version": "3.11.2"
  }
 },
 "nbformat": 4,
 "nbformat_minor": 2
}
